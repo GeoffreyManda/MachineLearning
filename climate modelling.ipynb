{
  "nbformat": 4,
  "nbformat_minor": 0,
  "metadata": {
    "colab": {
      "private_outputs": true,
      "provenance": [],
      "gpuType": "T4",
      "cell_execution_strategy": "setup",
      "authorship_tag": "ABX9TyMxP8O8ALIana39zswGl2ZY",
      "include_colab_link": true
    },
    "kernelspec": {
      "name": "python3",
      "display_name": "Python 3"
    },
    "language_info": {
      "name": "python"
    },
    "accelerator": "GPU"
  },
  "cells": [
    {
      "cell_type": "markdown",
      "metadata": {
        "id": "view-in-github",
        "colab_type": "text"
      },
      "source": [
        "<a href=\"https://colab.research.google.com/github/GeoffreyManda/MachineLearning/blob/main/climate%20modelling.ipynb\" target=\"_parent\"><img src=\"https://colab.research.google.com/assets/colab-badge.svg\" alt=\"Open In Colab\"/></a>"
      ]
    },
    {
      "source": [
        "#!pip install zarr xarray h5netcdf scipy store\n",
        " # Ensures zarr and xarray are installed (or reinstalled to refresh the xarray backend registry)\n",
        "\n",
        "import xarray\n",
        "# Restart the kernel after installing if the zarr engine isn't recognized\n",
        "# You can restart the kernel by going to \"Kernel\" -> \"Restart\" in the Jupyter Notebook menu.\n",
        "# Alternatively, you can also use the command:\n",
        "# get_ipython().kernel.do_shutdown(restart=True)"
      ],
      "cell_type": "code",
      "metadata": {
        "id": "YPCsBBOilIET"
      },
      "execution_count": null,
      "outputs": []
    },
    {
      "cell_type": "code",
      "source": [
        "era5 = xarray.open_zarr(\n",
        "    \"gs://gcp-public-data-arco-era5/ar/1959-2022-full_37-1h-0p25deg-chunk-1.zarr-v2\",\n",
        "    chunks={'time': 48},\n",
        "    consolidated=True,\n",
        ")\n",
        "era5"
      ],
      "metadata": {
        "id": "yOiKg3J9laDx"
      },
      "execution_count": null,
      "outputs": []
    }
  ]
}